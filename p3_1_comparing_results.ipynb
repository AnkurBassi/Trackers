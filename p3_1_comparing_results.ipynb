{
 "cells": [
  {
   "cell_type": "code",
   "execution_count": 1,
   "id": "0255fa06-8407-4e73-aefc-f3eeeade383f",
   "metadata": {},
   "outputs": [],
   "source": [
    "import matplotlib.pyplot as plt\n",
    "import numpy as np\n",
    "import pandas as pd\n",
    "\n",
    "import cv2\n",
    "import os\n",
    "import time\n",
    "\n",
    "import torch\n",
    "import torchvision.ops.boxes # to calculate iou score"
   ]
  },
  {
   "cell_type": "code",
   "execution_count": 2,
   "id": "09205a00-210a-463e-a587-18069e7636c8",
   "metadata": {},
   "outputs": [],
   "source": [
    "# list of available trackers\n",
    "# Only 'DASIAMRPN' and 'GOTURN' are DL-based\n",
    "tracker_lst = ['BOOSTING', 'CSRT', 'DASIAMRPN', 'GOTURN', 'KCF', 'MEDIANFLOW', 'MIL', 'MOSSE', 'TLD']\n",
    "tracker_lst = ['DASIAMRPN', 'GOTURN']\n",
    "\n",
    "# see how different trackers perform on the Fish sequence\n",
    "seq_name = 'jogging'"
   ]
  },
  {
   "cell_type": "code",
   "execution_count": 3,
   "id": "5e62ac19-5d03-41fa-826a-04bc460380df",
   "metadata": {},
   "outputs": [],
   "source": [
    "def get_num_of_frames(seq_name):\n",
    "    frames = []\n",
    "    seq_img_folder_path = './sequences/' + seq_name + '/img'\n",
    "    seq_img_folder = os.listdir(seq_img_folder_path)\n",
    "    for img_name in seq_img_folder:\n",
    "        if img_name.endswith('.jpg'):\n",
    "            frames.append(img_name)\n",
    "    return len(frames)\n",
    "\n",
    "def get_first_frame_path(seq_name):\n",
    "    frame_path = ''\n",
    "    seq_img_folder_path = './sequences/' + seq_name + '/img'\n",
    "    seq_img_folder = os.listdir(seq_img_folder_path)\n",
    "    for img_name in seq_img_folder:\n",
    "        if img_name.endswith('.jpg'):\n",
    "            frame_path = seq_img_folder_path + '/' + img_name\n",
    "            break\n",
    "    return frame_path\n",
    "\n",
    "def get_frame_size(seq_name):\n",
    "    width = 0\n",
    "    height = 0\n",
    "    first_frame = []\n",
    "    seq_img_folder_path = './sequences/' + seq_name + '/img'\n",
    "    seq_img_folder = os.listdir(seq_img_folder_path)\n",
    "    first_frame = cv2.imread(get_first_frame_path(seq_name))\n",
    "\n",
    "    height, width, channel = first_frame.shape\n",
    "    return width, height"
   ]
  },
  {
   "cell_type": "code",
   "execution_count": 4,
   "id": "7844c8bf-bb08-448b-aba4-8e392a0dfd71",
   "metadata": {},
   "outputs": [
    {
     "data": {
      "text/html": [
       "<div>\n",
       "<style scoped>\n",
       "    .dataframe tbody tr th:only-of-type {\n",
       "        vertical-align: middle;\n",
       "    }\n",
       "\n",
       "    .dataframe tbody tr th {\n",
       "        vertical-align: top;\n",
       "    }\n",
       "\n",
       "    .dataframe thead th {\n",
       "        text-align: right;\n",
       "    }\n",
       "</style>\n",
       "<table border=\"1\" class=\"dataframe\">\n",
       "  <thead>\n",
       "    <tr style=\"text-align: right;\">\n",
       "      <th></th>\n",
       "      <th>num_of_frames</th>\n",
       "      <th>frame_width</th>\n",
       "      <th>frame_height</th>\n",
       "    </tr>\n",
       "  </thead>\n",
       "  <tbody>\n",
       "    <tr>\n",
       "      <th>jogging</th>\n",
       "      <td>307</td>\n",
       "      <td>352</td>\n",
       "      <td>288</td>\n",
       "    </tr>\n",
       "  </tbody>\n",
       "</table>\n",
       "</div>"
      ],
      "text/plain": [
       "         num_of_frames  frame_width  frame_height\n",
       "jogging            307          352           288"
      ]
     },
     "execution_count": 4,
     "metadata": {},
     "output_type": "execute_result"
    }
   ],
   "source": [
    "df_seq_info = pd.DataFrame(0, columns=['num_of_frames', 'frame_width', 'frame_height'], index=[seq_name])\n",
    "\n",
    "for seq_idx, seq_row in df_seq_info.iterrows():\n",
    "    num_of_frames = get_num_of_frames(seq_idx)\n",
    "    frame_width, frame_height = get_frame_size(seq_idx)\n",
    "    df_seq_info.at[seq_idx, 'num_of_frames'] = num_of_frames\n",
    "    df_seq_info.at[seq_idx, 'frame_width'] = frame_width\n",
    "    df_seq_info.at[seq_idx, 'frame_height'] = frame_height\n",
    "    \n",
    "df_seq_info"
   ]
  },
  {
   "cell_type": "code",
   "execution_count": 5,
   "id": "daf069a0-cb7e-4ae1-8b39-fab38cf440f3",
   "metadata": {},
   "outputs": [],
   "source": [
    "# FPS: average frames per second\n",
    "# Fail: number of failed frames\n",
    "# IoU: Intersection over Union\n",
    "\n",
    "df_results = pd.DataFrame(0, columns=['FPS (average)', 'Fail (count)', 'IoU (ratio)'], index=tracker_lst)"
   ]
  },
  {
   "cell_type": "code",
   "execution_count": 6,
   "id": "47fde830-e8cc-4d6d-9505-39d8f8019730",
   "metadata": {},
   "outputs": [],
   "source": [
    "for tracker_name in tracker_lst:\n",
    "    result_path = \"./results/\" + seq_name + \"/\" + tracker_name + \"/\"\n",
    "    \n",
    "    # calculate average fps\n",
    "    fps_file = open(result_path+\"fps.txt\", \"r\")\n",
    "    fps_lst = []\n",
    "    for line in fps_file:\n",
    "        fps_lst.append(int(line.rstrip()))\n",
    "    df_results.loc[tracker_name, 'FPS (average)'] = round(sum(fps_lst) / len(fps_lst), 2)\n",
    "    \n",
    "    # obtain number of failed frames and IoU\n",
    "    bbox_tracked_file = open(result_path+\"bbox_tracked_object1.txt\", \"r\")\n",
    "    num_fail = 0\n",
    "    bbox_tracked_lst = []\n",
    "    bbox_truth_lst = []\n",
    "    iou_lst = []\n",
    "    \n",
    "    ## get the tracked (predicted) bounding boxes\n",
    "    for line in bbox_tracked_file:\n",
    "        temp_str = line.rstrip()\n",
    "        if temp_str == \"failed\":\n",
    "            num_fail += 1\n",
    "            bbox_tracked_lst.append([0, 0, 0, 0])\n",
    "        else:\n",
    "            temp_bbox = temp_str.split(', ') # in format [x, y, width, height]\n",
    "            bbox_tracked_lst.append([\n",
    "                int(temp_bbox[0]),\n",
    "                int(temp_bbox[1]),\n",
    "                int(temp_bbox[0]) + int(temp_bbox[2]),\n",
    "                int(temp_bbox[1]) + int(temp_bbox[3])\n",
    "            ]) # change to format [x_left, y_top, x_right, y_bottom]\n",
    "    bbox_truth_file = open(\"./sequences/\" + seq_name + \"/\" + \"groundtruth_rect.txt\", \"r\")\n",
    "    \n",
    "    ## get the true bounding boxes\n",
    "    for line in bbox_truth_file:\n",
    "        temp_bbox = line.rstrip().split('\\t') # in format [x, y, width, height]\n",
    "        bbox_truth_lst.append([\n",
    "                int(temp_bbox[0]),\n",
    "                int(temp_bbox[1]),\n",
    "                int(temp_bbox[0]) + int(temp_bbox[2]),\n",
    "                int(temp_bbox[1]) + int(temp_bbox[3])\n",
    "            ]) # change to format [x_left, y_top, x_right, y_bottom]\n",
    "        \n",
    "    ## compute the iou of each frame\n",
    "    for bbox_idx in range(len(bbox_tracked_lst)):\n",
    "        box_tracked = torch.tensor([bbox_tracked_lst[bbox_idx]], dtype=torch.float)\n",
    "        box_truth = torch.tensor([bbox_truth_lst[bbox_idx+1]], dtype=torch.float) # +1 due to first frame\n",
    "        iou_lst.append(torchvision.ops.boxes.box_iou(box_tracked, box_truth).item())\n",
    "    \n",
    "    # update fail count and iou\n",
    "    df_results.loc[tracker_name, 'Fail (count)'] = num_fail\n",
    "    df_results.loc[tracker_name, 'IoU (ratio)'] = round(sum(iou_lst) / len(iou_lst), 4)\n",
    "    "
   ]
  },
  {
   "cell_type": "code",
   "execution_count": 7,
   "id": "9eedf259-b2e7-4f5a-8788-c2bc4a2c6eeb",
   "metadata": {},
   "outputs": [
    {
     "data": {
      "text/html": [
       "<div>\n",
       "<style scoped>\n",
       "    .dataframe tbody tr th:only-of-type {\n",
       "        vertical-align: middle;\n",
       "    }\n",
       "\n",
       "    .dataframe tbody tr th {\n",
       "        vertical-align: top;\n",
       "    }\n",
       "\n",
       "    .dataframe thead th {\n",
       "        text-align: right;\n",
       "    }\n",
       "</style>\n",
       "<table border=\"1\" class=\"dataframe\">\n",
       "  <thead>\n",
       "    <tr style=\"text-align: right;\">\n",
       "      <th></th>\n",
       "      <th>FPS (average)</th>\n",
       "      <th>Fail (count)</th>\n",
       "      <th>IoU (ratio)</th>\n",
       "    </tr>\n",
       "  </thead>\n",
       "  <tbody>\n",
       "    <tr>\n",
       "      <th>DASIAMRPN</th>\n",
       "      <td>17.35</td>\n",
       "      <td>0</td>\n",
       "      <td>0.6952</td>\n",
       "    </tr>\n",
       "    <tr>\n",
       "      <th>GOTURN</th>\n",
       "      <td>16.10</td>\n",
       "      <td>0</td>\n",
       "      <td>0.2344</td>\n",
       "    </tr>\n",
       "  </tbody>\n",
       "</table>\n",
       "</div>"
      ],
      "text/plain": [
       "           FPS (average)  Fail (count)  IoU (ratio)\n",
       "DASIAMRPN          17.35             0       0.6952\n",
       "GOTURN             16.10             0       0.2344"
      ]
     },
     "execution_count": 7,
     "metadata": {},
     "output_type": "execute_result"
    }
   ],
   "source": [
    "df_results"
   ]
  },
  {
   "cell_type": "code",
   "execution_count": null,
   "id": "b1840d32-60fa-436d-9a5b-1dce445605dd",
   "metadata": {},
   "outputs": [],
   "source": []
  }
 ],
 "metadata": {
  "kernelspec": {
   "display_name": "tf_cpu_kernel",
   "language": "python",
   "name": "tf_cpu_kernel"
  },
  "language_info": {
   "codemirror_mode": {
    "name": "ipython",
    "version": 3
   },
   "file_extension": ".py",
   "mimetype": "text/x-python",
   "name": "python",
   "nbconvert_exporter": "python",
   "pygments_lexer": "ipython3",
   "version": "3.9.7"
  }
 },
 "nbformat": 4,
 "nbformat_minor": 5
}
